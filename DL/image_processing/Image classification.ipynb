{
 "cells": [
  {
   "cell_type": "markdown",
   "metadata": {
    "cellId": "rqbps0po5jh7gkaa2wqkbx",
    "id": "CEMpv0s41zmD"
   },
   "source": [
    "The Quest For A Better Network\n",
    "\n",
    "In this assignment we will build a monster network to solve Tiny ImageNet image classification."
   ]
  },
  {
   "cell_type": "code",
   "execution_count": null,
   "metadata": {
    "cellId": "xkaa3usdky9sfz7upl02w",
    "id": "-ljwdENa1zmG"
   },
   "outputs": [],
   "source": [
    "import numpy as np\n",
    "import matplotlib.pyplot as plt\n",
    "%matplotlib inline\n",
    "\n",
    "import torch, torch.nn as nn, torch.nn.functional as F\n",
    "from torch.utils.data import Dataset, DataLoader\n",
    "import torchvision, torchvision.transforms as transforms\n",
    "from torch.autograd import Variable\n",
    "\n",
    "from collections import defaultdict\n",
    "from IPython.display import clear_output\n",
    "import os\n",
    "import pickle\n"
   ]
  },
  {
   "cell_type": "code",
   "execution_count": null,
   "metadata": {
    "id": "VZK8PUHUBNq9"
   },
   "outputs": [],
   "source": [
    "import tiny_img"
   ]
  },
  {
   "cell_type": "code",
   "execution_count": null,
   "metadata": {
    "id": "jNTi538IDxh4"
   },
   "outputs": [],
   "source": [
    "def fix_test_data(data_path, root='tiny-imagenet-200/val'):\n",
    "    root = os.path.join(data_path, root)\n",
    "    with open(os.path.join(root, 'val_annotations.txt')) as f:\n",
    "        annotations = list(map(lambda x: x.split('\\t')[0:2], f.readlines()))\n",
    "        classes = sorted(set(map(lambda x: x[1], annotations)))\n",
    "     \n",
    "    try:\n",
    "        for folder in classes:\n",
    "            os.system('mkdir ' + os.path.join(root, folder))\n",
    "            os.system('mkdir ' + os.path.join(root, folder, 'images'))\n",
    "\n",
    "        for item in annotations:\n",
    "            name, folder = item\n",
    "            new_name = folder + '_' + name\n",
    "            path, new_path = os.path.join(root, 'images', name), os.path.join(root, folder, 'images', new_name)\n",
    "            os.system('cp ' + path + ' ' + new_path)\n",
    "    \n",
    "    except Exception as e:\n",
    "        for folder in classes:\n",
    "            os.system('rm ' + os.path.join(root, folder) + ' -rf')\n",
    "        raise Exception('Something went wrong during copying val images. Check your access rights!')\n",
    "            \n",
    "    os.system('rm ' + os.path.join(root, 'images') + ' -rf')"
   ]
  },
  {
   "cell_type": "code",
   "execution_count": null,
   "metadata": {
    "cellId": "mqe3vhwr7q85q3bi0b3rg",
    "id": "JcOYtdT_1zmG"
   },
   "outputs": [],
   "source": [
    "# downloading TinyImagenet\n",
    "# you don't have to run this cell more than once\n",
    "\n",
    "# from tiny_img import download_tinyImg200\n",
    "# data_path = '.'\n",
    "# download_tinyImg200(data_path)\n",
    "# fix_test_data(data_path)"
   ]
  },
  {
   "cell_type": "code",
   "execution_count": null,
   "metadata": {
    "colab": {
     "base_uri": "https://localhost:8080/"
    },
    "id": "DZ1xjyRB_n1F",
    "outputId": "73b93120-51d2-4afb-c769-8868022e8143"
   },
   "outputs": [
    {
     "name": "stdout",
     "output_type": "stream",
     "text": [
      "./tiny-imagenet-200.zip\n"
     ]
    }
   ],
   "source": [
    "from tiny_img import download_tinyImg200\n",
    "data_path = '.'\n",
    "download_tinyImg200(data_path)"
   ]
  },
  {
   "cell_type": "code",
   "execution_count": null,
   "metadata": {
    "colab": {
     "base_uri": "https://localhost:8080/"
    },
    "id": "PzoxLDQK_Kgq",
    "outputId": "4a35e25e-4ec0-42d2-bfd9-7ca5d734fb79"
   },
   "outputs": [
    {
     "name": "stdout",
     "output_type": "stream",
     "text": [
      "Copying train with splitting...\n",
      "Train was copied successfully\n",
      "Copying val...\n",
      "Val was copied successfully\n",
      "Fixed dataset was successfully created.\n"
     ]
    }
   ],
   "source": [
    "!python3 '/content/fix_dataset.py' --dataset '/content/tiny-imagenet-200' --val-size 0.2"
   ]
  },
  {
   "cell_type": "markdown",
   "metadata": {
    "cellId": "xyur6yosaod4qmh89z4tcc",
    "id": "n0Utiga-1zmH"
   },
   "source": [
    "We will split `tiny-imagenet-200/train` dataset into train and val parts, and use  `tiny-imagenet-200/val` dataset as a test one"
   ]
  },
  {
   "cell_type": "code",
   "execution_count": null,
   "metadata": {
    "cellId": "zkftuthgyzg8r3sy9dbulo",
    "id": "VYxq7-871zmH"
   },
   "outputs": [],
   "source": [
    "import os\n",
    "# imagenet_dir = os.path.join(data_path, 'tiny-imagenet-200')\n",
    "# dataset = torchvision.datasets.ImageFolder(imagenet_dir + '/train', transform=transforms.ToTensor())\n",
    "# train_dataset, val_dataset = torch.utils.data.random_split(dataset, [80000, 20000],\n",
    "#                                                            generator=torch.Generator().manual_seed(42))\n",
    "# test_dataset = torchvision.datasets.ImageFolder(imagenet_dir + '/val', transform=transforms.ToTensor())\n",
    "\n",
    "# OR\n",
    "\n",
    "# from tiny_img_ram import TinyImagenetRAM\n",
    "# dataset = TinyImagenetRAM('tiny-imagenet-200/train', transform=transforms.ToTensor())\n",
    "# train_dataset, val_dataset = torch.utils.data.random_split(dataset, [80000, 20000],\n",
    "#                                                            generator=torch.Generator().manual_seed(42))\n",
    "# test_dataset = TinyImagenetRAM('tiny-imagenet-200/val', transform=transforms.ToTensor())"
   ]
  },
  {
   "cell_type": "code",
   "execution_count": null,
   "metadata": {
    "id": "AS_VJTeXFmJd"
   },
   "outputs": [],
   "source": [
    "transform_train = transforms.Compose([transforms.RandomHorizontalFlip(),\n",
    "                                      transforms.RandomVerticalFlip(),\n",
    "                                      transforms.RandomCrop(64, padding=4),\n",
    "                                      transforms.ToTensor(),\n",
    "                                      transforms.Normalize((0.4914, 0.4822, 0.4465), (0.2023, 0.1994, 0.2010)),])\n",
    "transform_test = transforms.Compose([transforms.ToTensor(),\n",
    "                                     transforms.Normalize((0.4914, 0.4822, 0.4465), (0.2023, 0.1994, 0.2010)),])"
   ]
  },
  {
   "cell_type": "code",
   "execution_count": null,
   "metadata": {
    "id": "zpJKiatKAS-D"
   },
   "outputs": [],
   "source": [
    "train_dataset = torchvision.datasets.ImageFolder('/content/fixed-tiny-imagenet-200/train', transform=transform_train)\n",
    "val_dataset = torchvision.datasets.ImageFolder('/content/fixed-tiny-imagenet-200/val', transform=transform_test)\n",
    "test_dataset = torchvision.datasets.ImageFolder('/content/fixed-tiny-imagenet-200/test', transform=transform_test)"
   ]
  },
  {
   "cell_type": "code",
   "execution_count": null,
   "metadata": {
    "id": "h3AITEwKFmH9"
   },
   "outputs": [],
   "source": [
    "batch_size = 50\n",
    "train_batch_gen = torch.utils.data.DataLoader(train_dataset, \n",
    "                                              batch_size=batch_size,\n",
    "                                              shuffle=True,\n",
    "                                              num_workers=1)"
   ]
  },
  {
   "cell_type": "code",
   "execution_count": null,
   "metadata": {
    "id": "lfl8elRPGHOh"
   },
   "outputs": [],
   "source": [
    "val_batch_gen = torch.utils.data.DataLoader(val_dataset, \n",
    "                                              batch_size=batch_size,\n",
    "                                              shuffle=True,\n",
    "                                              num_workers=1)"
   ]
  },
  {
   "cell_type": "markdown",
   "metadata": {
    "id": "NfihlrNoG0Rh"
   },
   "source": [
    "*We train our model with negative log-likelihood aka crossentropy.*"
   ]
  },
  {
   "cell_type": "code",
   "execution_count": null,
   "metadata": {
    "id": "YlMZgO8LFmQG"
   },
   "outputs": [],
   "source": [
    "def compute_loss(X_batch, y_batch):\n",
    "    X_batch = torch.FloatTensor(X_batch).to(device=device)\n",
    "    y_batch = torch.LongTensor(y_batch).to(device=device)\n",
    "    logits = model.to(device)(X_batch)\n",
    "    return F.cross_entropy(logits, y_batch).mean(), logits\n",
    "\n",
    "def compute_mae(reference, prediction):\n",
    "    return torch.abs(torch.exp(reference - 1) - torch.exp(prediction - 1)).mean()"
   ]
  },
  {
   "cell_type": "code",
   "execution_count": null,
   "metadata": {
    "id": "XV2juxbvIcAv"
   },
   "outputs": [],
   "source": [
    "if torch.cuda.is_available():\n",
    "    device = torch.device('cuda:0')\n",
    "else:\n",
    "    device = torch.device('cpu')"
   ]
  },
  {
   "cell_type": "code",
   "execution_count": null,
   "metadata": {
    "id": "jA0wZXt0J7vf"
   },
   "outputs": [],
   "source": [
    "class Flatten(nn.Module):\n",
    "    def forward(self, input):\n",
    "        return input.view(input.size(0), -1)"
   ]
  },
  {
   "cell_type": "code",
   "execution_count": null,
   "metadata": {
    "id": "MCxMFtGCj7fb"
   },
   "outputs": [],
   "source": [
    "from torchsummary import summary"
   ]
  },
  {
   "cell_type": "code",
   "execution_count": null,
   "metadata": {
    "colab": {
     "base_uri": "https://localhost:8080/"
    },
    "id": "PsWeQ0uaA6Cj",
    "outputId": "8e28fea5-370c-4107-bd01-e2b8ab0e0505"
   },
   "outputs": [
    {
     "name": "stdout",
     "output_type": "stream",
     "text": [
      "----------------------------------------------------------------\n",
      "        Layer (type)               Output Shape         Param #\n",
      "================================================================\n",
      "            Conv2d-1           [-1, 16, 64, 64]           2,368\n",
      "       BatchNorm2d-2           [-1, 16, 64, 64]              32\n",
      "         MaxPool2d-3           [-1, 16, 31, 31]               0\n",
      "              ReLU-4           [-1, 16, 31, 31]               0\n",
      "            Conv2d-5           [-1, 32, 31, 31]          12,832\n",
      "       BatchNorm2d-6           [-1, 32, 31, 31]              64\n",
      "         MaxPool2d-7           [-1, 32, 15, 15]               0\n",
      "              ReLU-8           [-1, 32, 15, 15]               0\n",
      "            Conv2d-9           [-1, 64, 15, 15]          18,496\n",
      "      BatchNorm2d-10           [-1, 64, 15, 15]             128\n",
      "             ReLU-11           [-1, 64, 15, 15]               0\n",
      "          Dropout-12           [-1, 64, 15, 15]               0\n",
      "          Flatten-13                [-1, 14400]               0\n",
      "           Linear-14                 [-1, 1024]      14,746,624\n",
      "      BatchNorm1d-15                 [-1, 1024]           2,048\n",
      "             ReLU-16                 [-1, 1024]               0\n",
      "           Linear-17                  [-1, 512]         524,800\n",
      "          Dropout-18                  [-1, 512]               0\n",
      "             ReLU-19                  [-1, 512]               0\n",
      "           Linear-20                  [-1, 200]         102,600\n",
      "================================================================\n",
      "Total params: 15,409,992\n",
      "Trainable params: 15,409,992\n",
      "Non-trainable params: 0\n",
      "----------------------------------------------------------------\n",
      "Input size (MB): 0.05\n",
      "Forward/backward pass size (MB): 2.40\n",
      "Params size (MB): 58.78\n",
      "Estimated Total Size (MB): 61.23\n",
      "----------------------------------------------------------------\n"
     ]
    },
    {
     "name": "stderr",
     "output_type": "stream",
     "text": [
      "/usr/local/lib/python3.7/dist-packages/torch/nn/functional.py:718: UserWarning: Named tensors and all their associated APIs are an experimental feature and subject to change. Please do not use them for anything important until they are released as stable. (Triggered internally at  /pytorch/c10/core/TensorImpl.h:1156.)\n",
      "  return torch.max_pool2d(input, kernel_size, stride, padding, dilation, ceil_mode)\n"
     ]
    }
   ],
   "source": [
    "model = nn.Sequential()\n",
    "\n",
    "model.add_module('conv1', nn.Conv2d(3, 16, kernel_size=7, padding='same'))\n",
    "model.add_module('bn1', nn.BatchNorm2d(16))\n",
    "model.add_module('pool1', nn.MaxPool2d(kernel_size=3, stride=2))\n",
    "model.add_module('relu1', nn.ReLU(inplace=True))\n",
    "\n",
    "model.add_module('conv2', nn.Conv2d(16, 32, kernel_size=5, padding='same'))\n",
    "model.add_module('bn2', nn.BatchNorm2d(32))\n",
    "model.add_module('pool2', nn.MaxPool2d(kernel_size=3, stride=2))\n",
    "model.add_module('relu2', nn.ReLU(inplace=True))\n",
    "\n",
    "model.add_module('conv3', nn.Conv2d(32, 64, kernel_size=3, padding='same'))\n",
    "model.add_module('bn3', nn.BatchNorm2d(64))\n",
    "model.add_module('relu3', nn.ReLU(inplace=True))\n",
    "\n",
    "# model.add_module('conv4', nn.Conv2d(384, 256, kernel_size=3, padding=1))\n",
    "# model.add_module('bn4', nn.BatchNorm2d(256))\n",
    "# model.add_module('relu4', nn.ReLU(inplace=True))\n",
    "\n",
    "# model.add_module('conv5', nn.Conv2d(256, 256, kernel_size=3, padding=1))\n",
    "# model.add_module('relu5', nn.ReLU(inplace=True))\n",
    "# model.add_module('pool5', nn.MaxPool2d(kernel_size=2))\n",
    "\n",
    "model.add_module('dropout1', nn.Dropout(0.4))\n",
    "\n",
    "# reshape from \"images\" to flat vectors\n",
    "model.add_module('flatten', Flatten())\n",
    "\n",
    "# dense \"head\"\n",
    "model.add_module('dense1', nn.Linear(14400, 1024))\n",
    "model.add_module('bn1_dense', nn.BatchNorm1d(1024))\n",
    "model.add_module('relu1_dense', nn.ReLU(inplace=True))\n",
    "model.add_module('dense2', nn.Linear(1024, 512))\n",
    "model.add_module('dropout2', nn.Dropout(0.4))\n",
    "model.add_module('relu2_dense', nn.ReLU(inplace=True))\n",
    "model.add_module('dense3_logits', nn.Linear(512, 200)) # logits for 200 classes\n",
    "\n",
    "summary(model.cuda(), (3, 64, 64))"
   ]
  },
  {
   "cell_type": "code",
   "execution_count": null,
   "metadata": {
    "id": "_bSDIO-bA6Cl"
   },
   "outputs": [],
   "source": [
    "opt = torch.optim.Adam(model.parameters())\n",
    "\n",
    "train_loss = []\n",
    "val_accuracy = []\n",
    "to_save = []"
   ]
  },
  {
   "cell_type": "code",
   "execution_count": null,
   "metadata": {
    "colab": {
     "base_uri": "https://localhost:8080/"
    },
    "id": "B3RZoc8fA6Cl",
    "outputId": "4548e3da-68a5-4430-c8af-cca173e8f11a"
   },
   "outputs": [
    {
     "name": "stdout",
     "output_type": "stream",
     "text": [
      "Sequential(\n",
      "  (conv1): Conv2d(3, 16, kernel_size=(7, 7), stride=(1, 1), padding=same)\n",
      "  (bn1): BatchNorm2d(16, eps=1e-05, momentum=0.1, affine=True, track_running_stats=True)\n",
      "  (pool1): MaxPool2d(kernel_size=3, stride=2, padding=0, dilation=1, ceil_mode=False)\n",
      "  (relu1): ReLU(inplace=True)\n",
      "  (conv2): Conv2d(16, 32, kernel_size=(5, 5), stride=(1, 1), padding=same)\n",
      "  (bn2): BatchNorm2d(32, eps=1e-05, momentum=0.1, affine=True, track_running_stats=True)\n",
      "  (pool2): MaxPool2d(kernel_size=3, stride=2, padding=0, dilation=1, ceil_mode=False)\n",
      "  (relu2): ReLU(inplace=True)\n",
      "  (conv3): Conv2d(32, 64, kernel_size=(3, 3), stride=(1, 1), padding=same)\n",
      "  (bn3): BatchNorm2d(64, eps=1e-05, momentum=0.1, affine=True, track_running_stats=True)\n",
      "  (relu3): ReLU(inplace=True)\n",
      "  (dropout1): Dropout(p=0.6, inplace=False)\n",
      "  (flatten): Flatten()\n",
      "  (dense1): Linear(in_features=14400, out_features=1024, bias=True)\n",
      "  (bn1_dense): BatchNorm1d(1024, eps=1e-05, momentum=0.1, affine=True, track_running_stats=True)\n",
      "  (relu1_dense): ReLU(inplace=True)\n",
      "  (dense2): Linear(in_features=1024, out_features=512, bias=True)\n",
      "  (dropout2): Dropout(p=0.6, inplace=False)\n",
      "  (relu2_dense): ReLU(inplace=True)\n",
      "  (dense3_logits): Linear(in_features=512, out_features=200, bias=True)\n",
      ")\n"
     ]
    }
   ],
   "source": [
    "print(model)"
   ]
  },
  {
   "cell_type": "code",
   "execution_count": null,
   "metadata": {
    "id": "26F1f6a0A6Cl"
   },
   "outputs": [],
   "source": [
    "def plot_learning_curves(history):\n",
    "    \"\"\"\n",
    "    Function for model metrics plotting during training.\n",
    "\n",
    "    :param history: (dict)\n",
    "        accuracy и loss for train and validation.\n",
    "    \"\"\"\n",
    "    plt.figure(figsize=(14, 6))\n",
    "    plt.subplot(1,2,1)\n",
    "    plt.plot(history['train_loss'], color='r', label='train')\n",
    "    plt.plot(history['val_loss'], color='b', label='val')\n",
    "    plt.ylabel('Loss')\n",
    "    plt.xlabel('Epoch')\n",
    "    plt.title('Loss')\n",
    "    plt.ylim(0,5)\n",
    "    plt.legend()\n",
    "\n",
    "    plt.subplot(1,2,2)\n",
    "    plt.plot(history['train_acc'], color='r', label='train')\n",
    "    plt.plot(history['val_acc'], color='b', label='val')\n",
    "    plt.ylabel('Accuracy')\n",
    "    plt.xlabel('Epoch')\n",
    "    plt.title('Accuracy')\n",
    "    plt.ylim(0,55)\n",
    "    plt.legend()\n",
    "    plt.tight_layout()\n",
    "    plt.show()"
   ]
  },
  {
   "cell_type": "code",
   "execution_count": null,
   "metadata": {
    "id": "NTIft-NLA6Cm"
   },
   "outputs": [],
   "source": [
    "train_loss_ = []\n",
    "val_loss_ = []\n",
    "train_accuracy = []\n",
    "val_accuracy = []"
   ]
  },
  {
   "cell_type": "code",
   "execution_count": null,
   "metadata": {
    "colab": {
     "base_uri": "https://localhost:8080/",
     "height": 531
    },
    "id": "N3afBNmeA6Cm",
    "outputId": "d60654be-dd87-41d2-fbb2-60519c54d77c"
   },
   "outputs": [
    {
     "data": {
      "image/png": "[encoded data removed]",
      "text/plain": [
       "<Figure size 1008x432 with 2 Axes>"
      ]
     },
     "metadata": {
      "needs_background": "light",
      "tags": []
     },
     "output_type": "display_data"
    },
    {
     "name": "stdout",
     "output_type": "stream",
     "text": [
      "Epoch 100 of 100 took 65.487s\n",
      "  training loss (in-iteration): \t2.699955\n",
      "  validation loss (in-iteration): \t2.889877\n",
      "  training accuracy: \t\t\t35.87 %\n",
      "  validation accuracy: \t\t\t34.79 %\n"
     ]
    }
   ],
   "source": [
    "import time\n",
    "num_epochs = 100    # total amount of full passes over training data\n",
    "batch_size = 50     # number of samples processed in one SGD iteration\n",
    "save_iter_num = 5   # number of epoch for model saving\n",
    "\n",
    "history = defaultdict(list)\n",
    "\n",
    "for epoch in range(num_epochs):\n",
    "    # print (num_epochs)\n",
    "    # In each epoch, we do a full pass over the training data:\n",
    "    start_time = time.time()\n",
    "    train_loss = train_mae = train_batches = 0\n",
    "    model.train(True) # enable dropout / batch_norm training behavior\n",
    "    for (X_batch, y_batch) in train_batch_gen:\n",
    "        # train on batch\n",
    "        # loss = compute_loss(X_batch, y_batch)\n",
    "        loss, logits = compute_loss(X_batch, y_batch)\n",
    "        y_pred = logits.max(1)[1].data\n",
    "        train_accuracy.append(np.mean((y_batch.cpu() == y_pred.cpu()).numpy()))\n",
    "        loss.backward()\n",
    "        opt.step()\n",
    "        opt.zero_grad()\n",
    "        train_loss_.append(loss.data.cpu().numpy())\n",
    "\n",
    "        train_loss += loss.item()\n",
    "        train_batches += 1\n",
    "\n",
    "    history['train_loss'].append(train_loss / train_batches)\n",
    "    train_acc = np.mean(train_accuracy[-len(val_dataset) // batch_size :]) * 100\n",
    "    history['train_acc'].append(train_acc)\n",
    "\n",
    "    # print (num_epochs)    \n",
    "    val_loss = val_mae = val_batches = 0\n",
    "    model.train(False) # disable dropout / use averages for batch_norm\n",
    "    for X_batch, y_batch in val_batch_gen:\n",
    "        # logits = model(Variable(torch.FloatTensor(X_batch)).cuda())\n",
    "        loss, logits = compute_loss(X_batch, y_batch)\n",
    "        y_pred = logits.max(1)[1].data\n",
    "        val_accuracy.append(np.mean((y_batch.cpu() == y_pred.cpu()).numpy()))\n",
    "        val_loss_.append(loss.data.cpu().numpy())\n",
    "\n",
    "        val_loss += loss.item()\n",
    "        val_batches += 1\n",
    "\n",
    "    history['val_loss'].append(val_loss / val_batches)\n",
    "    val_acc = np.mean(val_accuracy[-len(val_dataset) // batch_size :]) * 100\n",
    "    history['val_acc'].append(val_acc)\n",
    "\n",
    "    clear_output()\n",
    "\n",
    "    plot_learning_curves(history)\n",
    "\n",
    "    # print (num_epochs)\n",
    "    # Then we print the results for this epoch:\n",
    "    print(\"Epoch {} of {} took {:.3f}s\".format(\n",
    "        epoch + 1, num_epochs, time.time() - start_time))\n",
    "    print(\"  training loss (in-iteration): \\t{:.6f}\".format(\n",
    "        np.mean(train_loss_[-len(train_dataset) // batch_size :])))\n",
    "    print(\"  validation loss (in-iteration): \\t{:.6f}\".format(\n",
    "        np.mean(val_loss_[-len(train_dataset) // batch_size :])))\n",
    "    print(\"  training accuracy: \\t\\t\\t{:.2f} %\".format(\n",
    "        train_acc))\n",
    "    print(\"  validation accuracy: \\t\\t\\t{:.2f} %\".format(\n",
    "        val_acc))\n",
    "    \n",
    "    if epoch % save_iter_num == 0:\n",
    "        file_path = f'/content/val_accuracy'\n",
    "        with open(file_path, 'wb') as f:\n",
    "            pickle.dump(history['val_acc'], f)\n",
    "    if val_acc == np.max(history['val_acc']):\n",
    "        file_path = '/content/best_model'\n",
    "        torch.save(model.state_dict(), file_path)"
   ]
  },
  {
   "cell_type": "markdown",
   "metadata": {
    "cellId": "61mhdyw7guo0wuubi3ohc",
    "id": "63Rjm-qHA6Cn"
   },
   "source": [
    "When everything is done, please calculate accuracy on `tiny-imagenet-200/val`"
   ]
  },
  {
   "cell_type": "code",
   "execution_count": null,
   "metadata": {
    "id": "HX1HCxEVA6Cn"
   },
   "outputs": [],
   "source": [
    "test_batch_gen = torch.utils.data.DataLoader(test_dataset,\n",
    "                                             batch_size=batch_size,\n",
    "                                             shuffle=True,\n",
    "                                             num_workers=1)"
   ]
  },
  {
   "cell_type": "code",
   "execution_count": null,
   "metadata": {
    "cellId": "9om7xr4hledgg42mo0h6r6",
    "id": "xZ_W4tqRA6Cn"
   },
   "outputs": [],
   "source": [
    "test_acc = []\n",
    "for X_batch, y_batch in test_batch_gen:\n",
    "    logits = model(Variable(torch.FloatTensor(X_batch)).cuda())\n",
    "    y_pred = logits.max(1)[1].data\n",
    "    test_acc.append(np.mean((y_batch.cpu() == y_pred.cpu()).numpy()))\n",
    "\n",
    "test_accuracy = np.mean(test_acc)"
   ]
  },
  {
   "cell_type": "code",
   "execution_count": null,
   "metadata": {
    "cellId": "12y9s3qrcpnsur64jcte8g",
    "colab": {
     "base_uri": "https://localhost:8080/"
    },
    "id": "iaKuQfxpA6Co",
    "outputId": "d0cfbcf2-cc7a-4326-bd48-db2018ba5c9a"
   },
   "outputs": [
    {
     "name": "stdout",
     "output_type": "stream",
     "text": [
      "Final results:\n",
      "  test accuracy:\t\t35.99 %\n",
      "Achievement unlocked: 80lvl Warlock!\n"
     ]
    }
   ],
   "source": [
    "print(\"Final results:\")\n",
    "print(\"  test accuracy:\\t\\t{:.2f} %\".format(\n",
    "    test_accuracy * 100))\n",
    "\n",
    "if test_accuracy * 100 > 40:\n",
    "    print(\"Achievement unlocked: 110lvl Warlock!\")\n",
    "elif test_accuracy * 100 > 35:\n",
    "    print(\"Achievement unlocked: 80lvl Warlock!\")\n",
    "elif test_accuracy * 100 > 30:\n",
    "    print(\"Achievement unlocked: 70lvl Warlock!\")\n",
    "elif test_accuracy * 100 > 25:\n",
    "    print(\"Achievement unlocked: 60lvl Warlock!\")\n",
    "else:\n",
    "    print(\"We need more magic! Follow instructons below\")"
   ]
  },
  {
   "cell_type": "markdown",
   "metadata": {
    "id": "0ECwA2TiVJEI"
   },
   "source": [
    "Исходно была взята модель с третьего семинара, способ обучения в том числе. Она давала что-то далекое от желаемого значения accuracy, поэтому далее было решено оставить ее подобие, как основу (скорее даже как финальную часть модели), а на старте наращивать количество слоев и их сложность.\n",
    "\n",
    "Здесь по большей части вдохновлялся архитектурой `AlexNet` — отдал предпочтение функции активации `ReLU`, добавил еще `Dropout` (из-за чего обучение замедлилось), не забыл про `MaxPool` и `Conv2d`. С дропаутом \"игрался\" долго — итерации три понадобилось, чтобы подобрать параметры, избавляющие от переобучения и не дающие недообучение.\n",
    "\n",
    "Параллельно с этим добавил аугментаций — рандомных поворотов/кропов для `train`-части, а также нормализацию. Последний этап дал заметный прирост в точности. (Его отслеживал отдельно)\n",
    "\n",
    "Увеличивал/уменьшал количество слоев, по итогу структура попроще и с меньшим количеством каналов показала себя лучше.\n",
    "\n",
    "* Accuracy на трейне: 35.87 %\n",
    "* Accuracy на валидации: 34.79 %\n",
    "* Accuracy на тесте: 35.99 %"
   ]
  }
 ],
 "metadata": {
  "accelerator": "GPU",
  "colab": {
   "collapsed_sections": [],
   "name": "3.1.ipynb",
   "provenance": []
  },
  "kernelspec": {
   "display_name": "Python 3",
   "language": "python",
   "name": "python3"
  },
  "language_info": {
   "codemirror_mode": {
    "name": "ipython",
    "version": 3
   },
   "file_extension": ".py",
   "mimetype": "text/x-python",
   "name": "python",
   "nbconvert_exporter": "python",
   "pygments_lexer": "ipython3",
   "version": "3.6.9"
  },
  "notebookId": "65f9de61-b446-4240-9ae4-a038dd4de505"
 },
 "nbformat": 4,
 "nbformat_minor": 1
}
